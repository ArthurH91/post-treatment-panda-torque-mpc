{
 "cells": [
  {
   "cell_type": "code",
   "execution_count": 2,
   "metadata": {},
   "outputs": [],
   "source": [
    "import pandas as pd\n",
    "import bagpy\n",
    "import pickle\n",
    "import pathlib"
   ]
  },
  {
   "cell_type": "markdown",
   "metadata": {},
   "source": [
    "### Convert ROS bag file to pickle"
   ]
  },
  {
   "cell_type": "code",
   "execution_count": 7,
   "metadata": {},
   "outputs": [
    {
     "name": "stdout",
     "output_type": "stream",
     "text": [
      "[INFO]  Successfully created the data folder /home/kwojciecho/Documents/post-treatment-panda-torque-mpc/bags/2024-02-13-19-59-20.\n"
     ]
    }
   ],
   "source": [
    "def extract_data(in_file: str, out_file: str) -> pd.DataFrame:\n",
    "    bag = bagpy.bagreader(in_file)\n",
    "    topic_data = []\n",
    "    for topic in bag.topics:\n",
    "        df = pd.read_csv(bag.message_by_topic(topic))\n",
    "        topic_data.append(df[df.columns.drop(list(df.filter(regex=\"head\")))])\n",
    "\n",
    "    with open(out_file, \"wb\") as handle:\n",
    "        pickle.dump(topic_data, handle, protocol=pickle.HIGHEST_PROTOCOL)\n",
    "\n",
    "\n",
    "bag_path_col_pair = pathlib.Path().resolve().parent / \"bags\"\n",
    "pkl_path = pathlib.Path().resolve().parent / \"pickle\"\n",
    "pathlib.Path(pkl_path).mkdir(parents=True, exist_ok=True)\n",
    "for file in bag_path_col_pair.glob(\"*.bag\"):\n",
    "    extract_data(file.as_posix(), pkl_path / file.with_suffix(\".pkl\").name)"
   ]
  },
  {
   "cell_type": "code",
   "execution_count": 4,
   "metadata": {},
   "outputs": [],
   "source": [
    "pkl_path = pathlib.Path().resolve().parent / \"pickle\"\n",
    "b = {}\n",
    "for file in pkl_path.glob(\"*.pkl\"):\n",
    "    with open(file, \"rb\") as handle:\n",
    "        b[file.name] = pickle.load(handle)"
   ]
  }
 ],
 "metadata": {
  "kernelspec": {
   "display_name": "analyze",
   "language": "python",
   "name": "python3"
  },
  "language_info": {
   "codemirror_mode": {
    "name": "ipython",
    "version": 3
   },
   "file_extension": ".py",
   "mimetype": "text/x-python",
   "name": "python",
   "nbconvert_exporter": "python",
   "pygments_lexer": "ipython3",
   "version": "3.11.7"
  }
 },
 "nbformat": 4,
 "nbformat_minor": 2
}
