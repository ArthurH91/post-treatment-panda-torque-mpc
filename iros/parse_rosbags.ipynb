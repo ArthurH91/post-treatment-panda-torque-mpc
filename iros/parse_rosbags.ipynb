{
 "cells": [
  {
   "cell_type": "code",
   "execution_count": 1,
   "metadata": {},
   "outputs": [
    {
     "name": "stderr",
     "output_type": "stream",
     "text": [
      "/tmp/ipykernel_755616/1222988256.py:1: DeprecationWarning: \n",
      "Pyarrow will become a required dependency of pandas in the next major release of pandas (pandas 3.0),\n",
      "(to allow more performant data types, such as the Arrow string type, and better interoperability with other libraries)\n",
      "but was not found to be installed on your system.\n",
      "If this would cause problems for you,\n",
      "please provide us feedback at https://github.com/pandas-dev/pandas/issues/54466\n",
      "        \n",
      "  import pandas as pd\n"
     ]
    }
   ],
   "source": [
    "import pandas as pd\n",
    "import bagpy\n",
    "import pickle\n",
    "import pathlib"
   ]
  },
  {
   "cell_type": "markdown",
   "metadata": {},
   "source": [
    "### Convert ROS bag file to pickle"
   ]
  },
  {
   "cell_type": "code",
   "execution_count": 2,
   "metadata": {},
   "outputs": [
    {
     "name": "stdout",
     "output_type": "stream",
     "text": [
      "[INFO]  Data folder /home/krzysiek/Documents/Programming/laas/post-treatment-panda-torque-mpc/bags/sinu_motion_around_z_weight_2023-09-12-16-44-18 already exists. Not creating.\n"
     ]
    }
   ],
   "source": [
    "def extract_data(in_file: str, out_file: str) -> pd.DataFrame:\n",
    "    bag = bagpy.bagreader(in_file)\n",
    "    topic_data = []\n",
    "    for topic in bag.topics:\n",
    "        df = pd.read_csv(bag.message_by_topic(topic))\n",
    "        topic_data.append(df[df.columns.drop(list(df.filter(regex=\"head\")))])\n",
    "\n",
    "    with open(out_file, \"wb\") as handle:\n",
    "        pickle.dump(topic_data, handle, protocol=pickle.HIGHEST_PROTOCOL)\n",
    "\n",
    "\n",
    "bag_path_col_pair = pathlib.Path().resolve().parent / \"bags\"\n",
    "pkl_path = pathlib.Path().resolve().parent / \"pickle\"\n",
    "pathlib.Path(pkl_path).mkdir(parents=True, exist_ok=True)\n",
    "for file in bag_path_col_pair.glob(\"*.bag\"):\n",
    "    extract_data(file.as_posix(), pkl_path / file.with_suffix(\".pkl\").name)"
   ]
  },
  {
   "cell_type": "code",
   "execution_count": 220,
   "metadata": {},
   "outputs": [],
   "source": [
    "pkl_path = pathlib.Path().resolve().parent / \"pickle\"\n",
    "b = {}\n",
    "for file in pkl_path.glob(\"*.pkl\"):\n",
    "    with open(file, \"rb\") as handle:\n",
    "        b[file.name] = pickle.load(handle)"
   ]
  }
 ],
 "metadata": {
  "kernelspec": {
   "display_name": "analyze",
   "language": "python",
   "name": "python3"
  },
  "language_info": {
   "codemirror_mode": {
    "name": "ipython",
    "version": 3
   },
   "file_extension": ".py",
   "mimetype": "text/x-python",
   "name": "python",
   "nbconvert_exporter": "python",
   "pygments_lexer": "ipython3",
   "version": "3.12.1"
  }
 },
 "nbformat": 4,
 "nbformat_minor": 2
}
